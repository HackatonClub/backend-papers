{
 "cells": [
  {
   "cell_type": "code",
   "execution_count": 69,
   "metadata": {},
   "outputs": [
    {
     "name": "stdout",
     "output_type": "stream",
     "text": [
      "hello world\n"
     ]
    }
   ],
   "source": [
    "print(\"hello world\")"
   ]
  },
  {
   "cell_type": "markdown",
   "metadata": {},
   "source": [
    "## Функция reduce из моудля functools\n",
    "\n",
    "Reduce принимает функцию и набор пунктов. Возвращает значение, получаемое комбинированием всех пунктов\n",
    "\n",
    "* reduce(f,[i1,i2,i3,i4]) = f(i1,f(i2,f(i3)))\n",
    "\n",
    "Для начала давайте посмотрим на ее аргументы в Python:\n",
    "```python\n",
    " def reduce(function, iterable, initializer=None):\n",
    "\n",
    "Первым аругмент ее являтся функция, которая будет производить действия над iterable object(Итерируемый объект, над которым возможно опирация for i in itrable_object)\n",
    "Последний аргумент необязательный  initializer, если он присутствует, он помещается перед элементами итерируемого объекта в вычислении и используется по умолчанию, когда итерируемый объект пуст. Если инициализатор не указан и итерируемый содержит только один элемент, возвращается первый элемент."
   ]
  },
  {
   "cell_type": "code",
   "execution_count": 70,
   "metadata": {},
   "outputs": [
    {
     "name": "stdout",
     "output_type": "stream",
     "text": [
      "Сумма с reduce: 6\n",
      "Сумма с reduce and initializer: 10\n"
     ]
    }
   ],
   "source": [
    "from functools import reduce\n",
    "a = [1,2,3]\n",
    "sumwithreduce = reduce(lambda x,a: x+a,a)\n",
    "print(\"Сумма с reduce:\", sumwithreduce)\n",
    "\n",
    "sumWithReduceAndinItializer = reduce(lambda x,a: x+a,a,4)\n",
    "print(\"Сумма с reduce and initializer:\",sumWithReduceAndinItializer)\n",
    "\n",
    "\n"
   ]
  },
  {
   "cell_type": "markdown",
   "metadata": {},
   "source": [
    "Еще пример использования reduce:\n",
    "Задача: дан лист целых чисел найти одно единственное значение которое не повторяется в списке"
   ]
  },
  {
   "cell_type": "code",
   "execution_count": 71,
   "metadata": {},
   "outputs": [
    {
     "name": "stdout",
     "output_type": "stream",
     "text": [
      "8\n"
     ]
    }
   ],
   "source": [
    "from functools import reduce\n",
    "a = [1,2,3,3,2,8,5,6,5,6,1]\n",
    "seekonlyone = reduce(lambda x,y: x^y,a)\n",
    "print(seekonlyone)"
   ]
  },
  {
   "cell_type": "markdown",
   "metadata": {},
   "source": [
    "## Функция partial\n",
    "С помощью этой функции мы можем так сказать заморозить часть аргументов вызываемоей функции\n",
    "Давайте посомтрим на пример:\n",
    "    Вывода квадратно уравнения по заданным параметарам"
   ]
  },
  {
   "cell_type": "code",
   "execution_count": 72,
   "metadata": {},
   "outputs": [
    {
     "name": "stdout",
     "output_type": "stream",
     "text": [
      "2x^2+3x+4\n",
      "None\n"
     ]
    }
   ],
   "source": [
    "def quadratic_equation(a,b,c):\n",
    "    print(\"{}x^2+{}x+{}\".format(a,b,c))\n",
    "\n",
    "print(quadratic_equation(2,3,4))\n"
   ]
  },
  {
   "cell_type": "markdown",
   "metadata": {},
   "source": [
    "Допустим нам нужно реализовать функцию которая бы всегда выводила, квадратно уравнение с фиксированынм параметром a\n",
    "переде x^2, чтобы мы сделали?"
   ]
  },
  {
   "cell_type": "code",
   "execution_count": 73,
   "metadata": {},
   "outputs": [
    {
     "name": "stdout",
     "output_type": "stream",
     "text": [
      "2x^2+6x+10\n",
      "None\n",
      "5x^2+6x+10\n",
      "None\n"
     ]
    }
   ],
   "source": [
    "def quadratic_equation_with_fix_a_2(b,c):\n",
    "    return quadratic_equation(2,b,c)\n",
    "print (quadratic_equation_with_fix_a_2(6,10))\n",
    "\n",
    "def quadratic_equation_with_fix_a_5(b,c):\n",
    "    return quadratic_equation(5,b,c)\n",
    "print (quadratic_equation_with_fix_a_5(6,10))\n"
   ]
  },
  {
   "cell_type": "markdown",
   "metadata": {},
   "source": [
    "Когда таких функций переписанных мало, то этот метод сойдет, но когда их много, на помощь придет partical"
   ]
  },
  {
   "cell_type": "code",
   "execution_count": 74,
   "metadata": {},
   "outputs": [
    {
     "name": "stdout",
     "output_type": "stream",
     "text": [
      "2x^2+4x+3\n",
      "None\n",
      "5x^2+1x+5\n",
      "None\n"
     ]
    }
   ],
   "source": [
    "from functools import partial\n",
    "quadratic_equation_fix_with_parical_fix_2 = partial(quadratic_equation,2)\n",
    "print(quadratic_equation_fix_with_parical_fix_2(4,3))\n",
    "\n",
    "# Фиксируем элемент c изначальной функции \n",
    "quadratic_equation_fix_with_parical_fix_5 = partial(quadratic_equation,5,c=5)\n",
    "print(quadratic_equation_fix_with_parical_fix_5(1))"
   ]
  },
  {
   "cell_type": "markdown",
   "metadata": {},
   "source": [
    "#### Что по сути делает partial?\n",
    "Она создает новую функцию, в которую записываются **args, переданные в partial, давайте посмотрим на аругменты функции partial\n",
    "\n",
    "def partial(func, /, *args, **keywords):\n",
    "    \n",
    "Параметры:\n",
    "    func - любой вызываемый объект,\n",
    "    *args - позиционные аргументы func,\n",
    "    **keywords - ключевые аргументы func.\n",
    "Возращает новый объект, который ведет себя как func\n",
    "\n",
    "### Объект partial() имеет три атрибута только для чтения:\n",
    "* partial.func:\n",
    "\n",
    "    Атрибут partial.func возвращает исходную функцию переданную в качестве первого аргумента partial(). Другими словами, вызовы будут перенаправлены в исходную функцию func с новыми аргументами и ключевыми словами.\n",
    "\n",
    "* partial.args:\n",
    "\n",
    "    Атрибут partial.func возвращает крайние левые позиционные аргументы, с которыми будет вызвана исходная функция func.\n",
    "\n",
    "* partial.keywords:\n",
    "\n",
    "    Атрибут partial.keywords возвращает ключевые аргументы, с которыми будет вызвана исходная функция func."
   ]
  },
  {
   "cell_type": "code",
   "execution_count": 75,
   "metadata": {},
   "outputs": [
    {
     "name": "stdout",
     "output_type": "stream",
     "text": [
      "<function quadratic_equation at 0x0000020E29C93400>\n",
      "(5,)\n",
      "{'c': 5}\n"
     ]
    }
   ],
   "source": [
    "print(quadratic_equation_fix_with_parical_fix_5.func)\n",
    "\n",
    "print(quadratic_equation_fix_with_parical_fix_5.args)\n",
    "print(quadratic_equation_fix_with_parical_fix_5.keywords)"
   ]
  },
  {
   "cell_type": "markdown",
   "metadata": {},
   "source": [
    "## Декоратор cached_property\n",
    "\n",
    "Данный декоратор преобразует метод класса в свойство, значение которого вычисляется один раз, а затем кэшируется как обычный атрибут на все время жизни экземпляра. Аналогично property(), но с добавлением кэширования. Полезно для дорогостоящих вычисляемых свойств экземпляров, которые в противном случае фактически неизменяемы."
   ]
  },
  {
   "cell_type": "code",
   "execution_count": 76,
   "metadata": {},
   "outputs": [
    {
     "name": "stdout",
     "output_type": "stream",
     "text": [
      "78.53981633974483\n",
      "78.53981633974483\n",
      "10\n",
      "78.53981633974483\n"
     ]
    }
   ],
   "source": [
    "from functools import cached_property\n",
    "from math import pi\n",
    "\n",
    "class Circle:\n",
    "     def __init__(self, radius):\n",
    "        self.radius = radius\n",
    "        \n",
    "     @cached_property\n",
    "     def square(self):\n",
    "        return pi * self.radius**2\n",
    "\n",
    "new_circle = Circle(5)\n",
    "print(new_circle.square)\n",
    "new_circle.radius = 10\n",
    "print(new_circle.square)\n",
    "print(new_circle.radius)\n"
   ]
  },
  {
   "cell_type": "markdown",
   "metadata": {},
   "source": [
    "Как мы видим значение площади не меяется так как она закешировано, чтобы это исправить нужно удалить кеш"
   ]
  },
  {
   "cell_type": "code",
   "execution_count": 77,
   "metadata": {},
   "outputs": [
    {
     "name": "stdout",
     "output_type": "stream",
     "text": [
      "314.1592653589793\n"
     ]
    }
   ],
   "source": [
    "del new_circle.square\n",
    "print(new_circle.square)"
   ]
  },
  {
   "cell_type": "markdown",
   "metadata": {},
   "source": [
    "## Декоратор singledispatch\n",
    "\n",
    "Декоратор @singledispatch модуля functools создает из обычной функции - универсальную функцию.\n",
    "Чтобы определить универсальную функцию, оберните ее с помощью декоратора @singledispatch. Обратите внимание, что в перегруженные реализации передается тип первого аргумента:"
   ]
  },
  {
   "cell_type": "code",
   "execution_count": 90,
   "metadata": {},
   "outputs": [
    {
     "name": "stdout",
     "output_type": "stream",
     "text": [
      "today\n",
      "26-5-2021\n",
      "26-5-2021 17:25:10\n",
      "19:22:15\n"
     ]
    }
   ],
   "source": [
    "from functools import singledispatch\n",
    "from datetime import date, datetime, time\n",
    "\n",
    "@singledispatch\n",
    "def format(arg):\n",
    "    return arg\n",
    "\n",
    "@format.register\n",
    "def _(arg: date):\n",
    "    return f\"{arg.day}-{arg.month}-{arg.year}\"\n",
    "\n",
    "@format.register\n",
    "def _(arg: datetime):\n",
    "    return f\"{arg.day}-{arg.month}-{arg.year} {arg.hour}:{arg.minute}:{arg.second}\"\n",
    "\n",
    "@format.register(time)\n",
    "def _(arg):\n",
    "    return f\"{arg.hour}:{arg.minute}:{arg.second}\"\n",
    "\n",
    "print(format(\"today\"))\n",
    "print(format(date(2021, 5, 26)))\n",
    "print(format(datetime(2021, 5, 26, 17, 25, 10)))\n",
    "print(format(time(19, 22, 15)))"
   ]
  },
  {
   "cell_type": "markdown",
   "metadata": {},
   "source": [
    "Чтобы добавить перегруженные реализации в функцию, используйте атрибут .register() обобщенной функции fun. Выражение fun.register() то же является декоратором.\n",
    "Затем мы определяем отдельные функции для каждого типа, который мы хотим перегрузить — в данном случае дату, дату и время —каждый из них имеет имя _ (подчеркивание), потому что они все равно будут вызываться (отправляться) через метод форматирования, поэтому нет необходимости давать им полезные имена. Каждый из них также украшен @format.register, который связывает их с ранее упомянутой функцией форматирования. \n",
    "\n",
    "Также мы можем перегружать с помомощью  singledispatch метода классов:"
   ]
  },
  {
   "cell_type": "code",
   "execution_count": 91,
   "metadata": {},
   "outputs": [
    {
     "name": "stdout",
     "output_type": "stream",
     "text": [
      "26-5-2021\n",
      "19:22:15\n"
     ]
    }
   ],
   "source": [
    "from functools import singledispatchmethod\n",
    "\n",
    "\n",
    "class Formatter:\n",
    "    @singledispatchmethod\n",
    "    def format(self, arg):\n",
    "        raise NotImplementedError(f\"Cannot format value of type {type(arg)}\")\n",
    "\n",
    "    @format.register\n",
    "    def _(self, arg: date):\n",
    "        return f\"{arg.day}-{arg.month}-{arg.year}\"\n",
    "\n",
    "    @format.register\n",
    "    def _(self, arg: time):\n",
    "        return f\"{arg.hour}:{arg.minute}:{arg.second}\"\n",
    "\n",
    "f = Formatter()\n",
    "print(f.format(date(2021, 5, 26)))\n",
    "print(f.format(time(19, 22, 15)))"
   ]
  },
  {
   "cell_type": "markdown",
   "metadata": {},
   "source": [
    "## Декоратор wraps \n",
    "Для начала вспомним, что такое вообще декораторы. Это функция которая принмиает функцию в качестве аргумента и модифицирует ее.\n"
   ]
  },
  {
   "cell_type": "code",
   "execution_count": 21,
   "metadata": {},
   "outputs": [
    {
     "name": "stdout",
     "output_type": "stream",
     "text": [
      " Я работаю до функции hello\n",
      "Hello,Jack!\n"
     ]
    }
   ],
   "source": [
    "def logged(func):\n",
    "    def with_logging(*args, **kwargs):\n",
    "        \"Логируем функцию\"\n",
    "        print(\" Я работаю до функции \"+ func.__name__ )\n",
    "        return func(*args, **kwargs)\n",
    "    return with_logging\n",
    "\n",
    "@logged\n",
    "def hello(name):\n",
    "    \"Говорит привет кто-то\"\n",
    "    return f\"Hello,{name}!\"\n",
    "\n",
    "print(hello(\"Jack\"))\n"
   ]
  },
  {
   "cell_type": "markdown",
   "metadata": {},
   "source": [
    "Единственный минус и почему нужно использовать wraps это:"
   ]
  },
  {
   "cell_type": "code",
   "execution_count": 12,
   "metadata": {},
   "outputs": [
    {
     "name": "stdout",
     "output_type": "stream",
     "text": [
      "with_logging\n",
      "Логируем функцию\n"
     ]
    }
   ],
   "source": [
    "print(hello.__name__)\n",
    "print(hello.__doc__)\n",
    "\n"
   ]
  },
  {
   "cell_type": "markdown",
   "metadata": {},
   "source": [
    "Это то что когда мы вызываем имя функциии и документацию декорированной функции, мы понимаем, что они были заменены значениями из функции декоратора. Это плохо, поэтому есть wraps:"
   ]
  },
  {
   "cell_type": "code",
   "execution_count": 22,
   "metadata": {},
   "outputs": [
    {
     "name": "stdout",
     "output_type": "stream",
     "text": [
      "Я работаю до функции wraps_hello\n",
      "Hello, Jack!\n",
      "wraps_hello\n",
      "Говорит привет кто-то\n"
     ]
    }
   ],
   "source": [
    "from functools import wraps\n",
    "\n",
    "\n",
    "def logged_wraps(func):\n",
    "    @wraps(func)\n",
    "    def with_logging_wraps(*args, **kwargs):\n",
    "        \"Логируем функцию\"\n",
    "        print(\"Я работаю до функции \"+ func.__name__ )\n",
    "        return func(*args, **kwargs)\n",
    "    return with_logging_wraps\n",
    "\n",
    "@logged_wraps\n",
    "def wraps_hello(name):\n",
    "    \"Говорит привет кто-то\"\n",
    "    return f\"Hello, {name}!\"\n",
    "\n",
    "print(wraps_hello(\"Jack\"))\n",
    "\n",
    "\n",
    "print(wraps_hello.__name__)\n",
    "print(wraps_hello.__doc__)"
   ]
  }
 ],
 "metadata": {
  "kernelspec": {
   "display_name": "Python 3.10.2 64-bit",
   "language": "python",
   "name": "python3"
  },
  "language_info": {
   "codemirror_mode": {
    "name": "ipython",
    "version": 3
   },
   "file_extension": ".py",
   "mimetype": "text/x-python",
   "name": "python",
   "nbconvert_exporter": "python",
   "pygments_lexer": "ipython3",
   "version": "3.10.2"
  },
  "orig_nbformat": 4,
  "vscode": {
   "interpreter": {
    "hash": "6847c98a8f86b01c6a19c518cd2f366693b80566b266804d5ca763cbb223f52b"
   }
  }
 },
 "nbformat": 4,
 "nbformat_minor": 2
}
